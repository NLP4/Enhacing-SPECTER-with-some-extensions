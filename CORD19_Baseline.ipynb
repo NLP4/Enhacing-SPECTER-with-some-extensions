{
  "nbformat": 4,
  "nbformat_minor": 0,
  "metadata": {
    "colab": {
      "provenance": [],
      "include_colab_link": true
    },
    "kernelspec": {
      "name": "python3",
      "display_name": "Python 3"
    },
    "language_info": {
      "name": "python"
    }
  },
  "cells": [
    {
      "cell_type": "markdown",
      "metadata": {
        "id": "view-in-github",
        "colab_type": "text"
      },
      "source": [
        "<a href=\"https://colab.research.google.com/github/NLP4/Enhacing-SPECTER-with-some-extensions/blob/main/CORD19_Baseline.ipynb\" target=\"_parent\"><img src=\"https://colab.research.google.com/assets/colab-badge.svg\" alt=\"Open In Colab\"/></a>"
      ]
    },
    {
      "cell_type": "markdown",
      "source": [
        "This notebook represent the baseline for testing the classification task using the CORD19 dataset and generating the SPECTER embeddings using title and abstract"
      ],
      "metadata": {
        "id": "SxIfB9h-yUCY"
      }
    },
    {
      "cell_type": "code",
      "execution_count": null,
      "metadata": {
        "colab": {
          "base_uri": "https://localhost:8080/"
        },
        "id": "0kxMJzeLfoM9",
        "outputId": "fb1847c9-25f2-479c-d463-d8be84f036f2"
      },
      "outputs": [
        {
          "output_type": "stream",
          "name": "stdout",
          "text": [
            "Cloning into 'specter'...\n",
            "remote: Enumerating objects: 195, done.\u001b[K\n",
            "remote: Counting objects: 100% (120/120), done.\u001b[K\n",
            "remote: Compressing objects: 100% (61/61), done.\u001b[K\n",
            "remote: Total 195 (delta 80), reused 70 (delta 59), pack-reused 75\u001b[K\n",
            "Receiving objects: 100% (195/195), 316.53 KiB | 10.91 MiB/s, done.\n",
            "Resolving deltas: 100% (96/96), done.\n"
          ]
        }
      ],
      "source": [
        "!git clone https://github.com/allenai/specter.git"
      ]
    },
    {
      "cell_type": "code",
      "source": [
        "!wget https://ai2-s2-research-public.s3-us-west-2.amazonaws.com/specter/archive.tar.gz"
      ],
      "metadata": {
        "colab": {
          "base_uri": "https://localhost:8080/"
        },
        "id": "R58thNdffs57",
        "outputId": "25290572-4aac-47a1-ce4d-de77bf0726d3"
      },
      "execution_count": null,
      "outputs": [
        {
          "output_type": "stream",
          "name": "stdout",
          "text": [
            "--2023-04-24 18:21:00--  https://ai2-s2-research-public.s3-us-west-2.amazonaws.com/specter/archive.tar.gz\n",
            "Resolving ai2-s2-research-public.s3-us-west-2.amazonaws.com (ai2-s2-research-public.s3-us-west-2.amazonaws.com)... 52.218.168.225, 52.92.208.10, 52.218.182.49, ...\n",
            "Connecting to ai2-s2-research-public.s3-us-west-2.amazonaws.com (ai2-s2-research-public.s3-us-west-2.amazonaws.com)|52.218.168.225|:443... connected.\n",
            "HTTP request sent, awaiting response... 200 OK\n",
            "Length: 873742818 (833M) [application/x-tar]\n",
            "Saving to: ‘archive.tar.gz’\n",
            "\n",
            "archive.tar.gz      100%[===================>] 833.27M  28.2MB/s    in 27s     \n",
            "\n",
            "2023-04-24 18:21:27 (30.9 MB/s) - ‘archive.tar.gz’ saved [873742818/873742818]\n",
            "\n"
          ]
        }
      ]
    },
    {
      "cell_type": "code",
      "source": [
        "!pip install -U -q kaggle\n",
        "!mkdir -p ~/.kaggle\n",
        "!echo '{\"username\":\"oumaimaregragui\",\"key\":\"98f2ff74d27102ab393ebb934d047f83\"}' > ~/.kaggle/kaggle.json\n",
        "!chmod 600 ~/.kaggle/kaggle.json\n",
        "!kaggle datasets download -d dillonpulliam/cord19cleaneddata"
      ],
      "metadata": {
        "colab": {
          "base_uri": "https://localhost:8080/"
        },
        "id": "60ih-bkBfxgj",
        "outputId": "83ae0a7c-f514-457d-ec13-f79092282a4f"
      },
      "execution_count": null,
      "outputs": [
        {
          "output_type": "stream",
          "name": "stdout",
          "text": [
            "Downloading cord19cleaneddata.zip to /content\n",
            " 98% 595M/608M [00:07<00:00, 109MB/s]\n",
            "100% 608M/608M [00:07<00:00, 85.0MB/s]\n"
          ]
        }
      ]
    },
    {
      "cell_type": "code",
      "source": [
        "!unzip cord19cleaneddata.zip"
      ],
      "metadata": {
        "colab": {
          "base_uri": "https://localhost:8080/"
        },
        "id": "D7MwLlc7fyjJ",
        "outputId": "01ab7578-80ac-4daf-89a4-62f83be8a4bb"
      },
      "execution_count": null,
      "outputs": [
        {
          "output_type": "stream",
          "name": "stdout",
          "text": [
            "Archive:  cord19cleaneddata.zip\n",
            "  inflating: covidData.csv           \n",
            "  inflating: covidDataCleaned.csv    \n"
          ]
        }
      ]
    },
    {
      "cell_type": "code",
      "source": [
        "import re\n",
        "import numpy as np\n",
        "import pandas as pd\n",
        "import pickle\n",
        "from nltk.corpus import stopwords\n",
        "from nltk.tokenize import word_tokenize\n",
        "from nltk.stem.wordnet import WordNetLemmatizer"
      ],
      "metadata": {
        "id": "Q5tptYbFf1ZA"
      },
      "execution_count": null,
      "outputs": []
    },
    {
      "cell_type": "code",
      "source": [
        "metadata_path = '/content/covidDataCleaned.csv'\n",
        "meta_df = pd.read_csv(metadata_path, dtype={'doi': str})"
      ],
      "metadata": {
        "id": "HMPJhuX9f7Xc"
      },
      "execution_count": null,
      "outputs": []
    },
    {
      "cell_type": "code",
      "source": [
        "meta_df = meta_df[['paper_id','abstract','body_text','title','authors','journal','url']].reset_index(drop=True)"
      ],
      "metadata": {
        "id": "uDDKenftf9wf"
      },
      "execution_count": null,
      "outputs": []
    },
    {
      "cell_type": "code",
      "source": [
        "def get_label(row):\n",
        "    abstract = str(row['abstract']).lower() # convert abstract to string and lowercase\n",
        "    if \"covid-19\" in abstract or \"coronavirus\" in abstract or \"sars-cov-2\" in abstract:\n",
        "        return \"relevant\"\n",
        "    else:\n",
        "        return \"irrelevant\"\n",
        "meta_df['label'] = meta_df.apply(get_label, axis=1)"
      ],
      "metadata": {
        "id": "Py7JT2mTgBTy"
      },
      "execution_count": null,
      "outputs": []
    },
    {
      "cell_type": "code",
      "source": [
        "meta_df.head(5)"
      ],
      "metadata": {
        "colab": {
          "base_uri": "https://localhost:8080/",
          "height": 407
        },
        "id": "SZex8DB6hJq8",
        "outputId": "8a874245-af39-4f65-ddfe-3c9278e3b445"
      },
      "execution_count": null,
      "outputs": [
        {
          "output_type": "execute_result",
          "data": {
            "text/plain": [
              "                                   paper_id  \\\n",
              "0  7037460cc980744603573744bf370ee8f49a4ffe   \n",
              "1  46bf124930f3ef18bc9dd2d4ae356a45d3bae461   \n",
              "2  983df610328c1e73e3c12546d42a14d520844f9b   \n",
              "3  4bbb0c59babc718f67953fae032dad6ae0d7aeb1   \n",
              "4  3061f05203159384dfbb2fd9b1d9a1ca7b98c8a6   \n",
              "\n",
              "                                            abstract  \\\n",
              "0  Objectives The aim of this study was to determ...   \n",
              "1  Objective: This study presents a preliminary r...   \n",
              "2  How to cite: Bhuiyan ZA, Ali MZ, Moula MM, Bar...   \n",
              "3  Genome Detective is a web-based, user-friendly...   \n",
              "4  Introduction: The earthquake is one of the mos...   \n",
              "\n",
              "                                           body_text  \\\n",
              "0  Drugs that inhibit virus replication have beco...   \n",
              "1  https://doi.org/10.3348/kjr.2020.0132 kjronlin...   \n",
              "2  The poultry industry is an important subsector...   \n",
              "3  We are currently faced with a potential global...   \n",
              "4  Over the past 10 years, natural disasters have...   \n",
              "\n",
              "                                               title  \\\n",
              "0  Efficacy and safety of the nucleoside analog G...   \n",
              "1  Chest Radiographic and CT Findings of the 2019...   \n",
              "2  Seroprevalence of major avian respiratory dise...   \n",
              "3  Genome Detective Coronavirus Typing Tool for r...   \n",
              "4  Iranian Emergency Medical Service Response in ...   \n",
              "\n",
              "                                             authors  \\\n",
              "0  Pedersen, Niels C; Perron, Michel; Bannasch, M...   \n",
              "1  Yoon, Soon Ho; Lee, Kyung Hee; Kim, Jin Yong; ...   \n",
              "2  Bhuiyan, Zafar Ahmed; Ali, Md Zulfekar; Moula,...   \n",
              "3  Cleemput, S.; Dumon, W.; Fonseca, V.; Karim, W...   \n",
              "4  Saberian, Peyman; Kolivand, Pir-Hossein; Hasan...   \n",
              "\n",
              "                            journal  \\\n",
              "0                 J Feline Med Surg   \n",
              "1                   Korean J Radiol   \n",
              "2                J Adv Vet Anim Res   \n",
              "3  Bioinformatics (Oxford, England)   \n",
              "4                   Adv J Emerg Med   \n",
              "\n",
              "                                                 url       label  \n",
              "0  https://www.ncbi.nlm.nih.gov/pmc/articles/PMC6...  irrelevant  \n",
              "1              https://doi.org/10.3348/kjr.2020.0132    relevant  \n",
              "2  https://www.ncbi.nlm.nih.gov/pmc/articles/PMC6...  irrelevant  \n",
              "3     https://doi.org/10.1093/bioinformatics/btaa145    relevant  \n",
              "4  https://www.ncbi.nlm.nih.gov/pmc/articles/PMC6...  irrelevant  "
            ],
            "text/html": [
              "\n",
              "  <div id=\"df-32566675-9a3d-42dd-ad0b-73506230a352\">\n",
              "    <div class=\"colab-df-container\">\n",
              "      <div>\n",
              "<style scoped>\n",
              "    .dataframe tbody tr th:only-of-type {\n",
              "        vertical-align: middle;\n",
              "    }\n",
              "\n",
              "    .dataframe tbody tr th {\n",
              "        vertical-align: top;\n",
              "    }\n",
              "\n",
              "    .dataframe thead th {\n",
              "        text-align: right;\n",
              "    }\n",
              "</style>\n",
              "<table border=\"1\" class=\"dataframe\">\n",
              "  <thead>\n",
              "    <tr style=\"text-align: right;\">\n",
              "      <th></th>\n",
              "      <th>paper_id</th>\n",
              "      <th>abstract</th>\n",
              "      <th>body_text</th>\n",
              "      <th>title</th>\n",
              "      <th>authors</th>\n",
              "      <th>journal</th>\n",
              "      <th>url</th>\n",
              "      <th>label</th>\n",
              "    </tr>\n",
              "  </thead>\n",
              "  <tbody>\n",
              "    <tr>\n",
              "      <th>0</th>\n",
              "      <td>7037460cc980744603573744bf370ee8f49a4ffe</td>\n",
              "      <td>Objectives The aim of this study was to determ...</td>\n",
              "      <td>Drugs that inhibit virus replication have beco...</td>\n",
              "      <td>Efficacy and safety of the nucleoside analog G...</td>\n",
              "      <td>Pedersen, Niels C; Perron, Michel; Bannasch, M...</td>\n",
              "      <td>J Feline Med Surg</td>\n",
              "      <td>https://www.ncbi.nlm.nih.gov/pmc/articles/PMC6...</td>\n",
              "      <td>irrelevant</td>\n",
              "    </tr>\n",
              "    <tr>\n",
              "      <th>1</th>\n",
              "      <td>46bf124930f3ef18bc9dd2d4ae356a45d3bae461</td>\n",
              "      <td>Objective: This study presents a preliminary r...</td>\n",
              "      <td>https://doi.org/10.3348/kjr.2020.0132 kjronlin...</td>\n",
              "      <td>Chest Radiographic and CT Findings of the 2019...</td>\n",
              "      <td>Yoon, Soon Ho; Lee, Kyung Hee; Kim, Jin Yong; ...</td>\n",
              "      <td>Korean J Radiol</td>\n",
              "      <td>https://doi.org/10.3348/kjr.2020.0132</td>\n",
              "      <td>relevant</td>\n",
              "    </tr>\n",
              "    <tr>\n",
              "      <th>2</th>\n",
              "      <td>983df610328c1e73e3c12546d42a14d520844f9b</td>\n",
              "      <td>How to cite: Bhuiyan ZA, Ali MZ, Moula MM, Bar...</td>\n",
              "      <td>The poultry industry is an important subsector...</td>\n",
              "      <td>Seroprevalence of major avian respiratory dise...</td>\n",
              "      <td>Bhuiyan, Zafar Ahmed; Ali, Md Zulfekar; Moula,...</td>\n",
              "      <td>J Adv Vet Anim Res</td>\n",
              "      <td>https://www.ncbi.nlm.nih.gov/pmc/articles/PMC6...</td>\n",
              "      <td>irrelevant</td>\n",
              "    </tr>\n",
              "    <tr>\n",
              "      <th>3</th>\n",
              "      <td>4bbb0c59babc718f67953fae032dad6ae0d7aeb1</td>\n",
              "      <td>Genome Detective is a web-based, user-friendly...</td>\n",
              "      <td>We are currently faced with a potential global...</td>\n",
              "      <td>Genome Detective Coronavirus Typing Tool for r...</td>\n",
              "      <td>Cleemput, S.; Dumon, W.; Fonseca, V.; Karim, W...</td>\n",
              "      <td>Bioinformatics (Oxford, England)</td>\n",
              "      <td>https://doi.org/10.1093/bioinformatics/btaa145</td>\n",
              "      <td>relevant</td>\n",
              "    </tr>\n",
              "    <tr>\n",
              "      <th>4</th>\n",
              "      <td>3061f05203159384dfbb2fd9b1d9a1ca7b98c8a6</td>\n",
              "      <td>Introduction: The earthquake is one of the mos...</td>\n",
              "      <td>Over the past 10 years, natural disasters have...</td>\n",
              "      <td>Iranian Emergency Medical Service Response in ...</td>\n",
              "      <td>Saberian, Peyman; Kolivand, Pir-Hossein; Hasan...</td>\n",
              "      <td>Adv J Emerg Med</td>\n",
              "      <td>https://www.ncbi.nlm.nih.gov/pmc/articles/PMC6...</td>\n",
              "      <td>irrelevant</td>\n",
              "    </tr>\n",
              "  </tbody>\n",
              "</table>\n",
              "</div>\n",
              "      <button class=\"colab-df-convert\" onclick=\"convertToInteractive('df-32566675-9a3d-42dd-ad0b-73506230a352')\"\n",
              "              title=\"Convert this dataframe to an interactive table.\"\n",
              "              style=\"display:none;\">\n",
              "        \n",
              "  <svg xmlns=\"http://www.w3.org/2000/svg\" height=\"24px\"viewBox=\"0 0 24 24\"\n",
              "       width=\"24px\">\n",
              "    <path d=\"M0 0h24v24H0V0z\" fill=\"none\"/>\n",
              "    <path d=\"M18.56 5.44l.94 2.06.94-2.06 2.06-.94-2.06-.94-.94-2.06-.94 2.06-2.06.94zm-11 1L8.5 8.5l.94-2.06 2.06-.94-2.06-.94L8.5 2.5l-.94 2.06-2.06.94zm10 10l.94 2.06.94-2.06 2.06-.94-2.06-.94-.94-2.06-.94 2.06-2.06.94z\"/><path d=\"M17.41 7.96l-1.37-1.37c-.4-.4-.92-.59-1.43-.59-.52 0-1.04.2-1.43.59L10.3 9.45l-7.72 7.72c-.78.78-.78 2.05 0 2.83L4 21.41c.39.39.9.59 1.41.59.51 0 1.02-.2 1.41-.59l7.78-7.78 2.81-2.81c.8-.78.8-2.07 0-2.86zM5.41 20L4 18.59l7.72-7.72 1.47 1.35L5.41 20z\"/>\n",
              "  </svg>\n",
              "      </button>\n",
              "      \n",
              "  <style>\n",
              "    .colab-df-container {\n",
              "      display:flex;\n",
              "      flex-wrap:wrap;\n",
              "      gap: 12px;\n",
              "    }\n",
              "\n",
              "    .colab-df-convert {\n",
              "      background-color: #E8F0FE;\n",
              "      border: none;\n",
              "      border-radius: 50%;\n",
              "      cursor: pointer;\n",
              "      display: none;\n",
              "      fill: #1967D2;\n",
              "      height: 32px;\n",
              "      padding: 0 0 0 0;\n",
              "      width: 32px;\n",
              "    }\n",
              "\n",
              "    .colab-df-convert:hover {\n",
              "      background-color: #E2EBFA;\n",
              "      box-shadow: 0px 1px 2px rgba(60, 64, 67, 0.3), 0px 1px 3px 1px rgba(60, 64, 67, 0.15);\n",
              "      fill: #174EA6;\n",
              "    }\n",
              "\n",
              "    [theme=dark] .colab-df-convert {\n",
              "      background-color: #3B4455;\n",
              "      fill: #D2E3FC;\n",
              "    }\n",
              "\n",
              "    [theme=dark] .colab-df-convert:hover {\n",
              "      background-color: #434B5C;\n",
              "      box-shadow: 0px 1px 3px 1px rgba(0, 0, 0, 0.15);\n",
              "      filter: drop-shadow(0px 1px 2px rgba(0, 0, 0, 0.3));\n",
              "      fill: #FFFFFF;\n",
              "    }\n",
              "  </style>\n",
              "\n",
              "      <script>\n",
              "        const buttonEl =\n",
              "          document.querySelector('#df-32566675-9a3d-42dd-ad0b-73506230a352 button.colab-df-convert');\n",
              "        buttonEl.style.display =\n",
              "          google.colab.kernel.accessAllowed ? 'block' : 'none';\n",
              "\n",
              "        async function convertToInteractive(key) {\n",
              "          const element = document.querySelector('#df-32566675-9a3d-42dd-ad0b-73506230a352');\n",
              "          const dataTable =\n",
              "            await google.colab.kernel.invokeFunction('convertToInteractive',\n",
              "                                                     [key], {});\n",
              "          if (!dataTable) return;\n",
              "\n",
              "          const docLinkHtml = 'Like what you see? Visit the ' +\n",
              "            '<a target=\"_blank\" href=https://colab.research.google.com/notebooks/data_table.ipynb>data table notebook</a>'\n",
              "            + ' to learn more about interactive tables.';\n",
              "          element.innerHTML = '';\n",
              "          dataTable['output_type'] = 'display_data';\n",
              "          await google.colab.output.renderOutput(dataTable, element);\n",
              "          const docLink = document.createElement('div');\n",
              "          docLink.innerHTML = docLinkHtml;\n",
              "          element.appendChild(docLink);\n",
              "        }\n",
              "      </script>\n",
              "    </div>\n",
              "  </div>\n",
              "  "
            ]
          },
          "metadata": {},
          "execution_count": 31
        }
      ]
    },
    {
      "cell_type": "code",
      "source": [
        "import pandas as pd\n",
        "import re\n",
        "import numpy as np\n",
        "import spacy\n",
        "\n",
        "# Load the spaCy model\n",
        "nlp = spacy.load(\"en_core_web_sm\")\n",
        "\n",
        "# Define a regular expression to match dates\n",
        "date_regex = re.compile(r\"\\d{4}\")\n",
        "\n",
        "# Create a new column for the date\n",
        "meta_df[\"date\"] = \"\"\n",
        "\n",
        "# Process each abstract and extract the date\n",
        "for i, abstract in enumerate(meta_df[\"abstract\"]):\n",
        "    if isinstance(abstract, float) and np.isnan(abstract):\n",
        "        abstract = \"\"\n",
        "    doc = nlp(abstract)\n",
        "    for token in doc:\n",
        "        if token.pos_ == \"NUM\" and date_regex.match(token.text):\n",
        "            date = token.text\n",
        "            break\n",
        "    else:\n",
        "        date = \"\"\n",
        "    \n",
        "    # Store the extracted date in the date column\n",
        "    meta_df.at[i, \"date\"] = date if isinstance(date, str) else str(date)"
      ],
      "metadata": {
        "id": "MLdbbAtith7m"
      },
      "execution_count": null,
      "outputs": []
    },
    {
      "cell_type": "code",
      "source": [
        "meta_df = meta_df[meta_df['date'].notnull() & (meta_df['date'] > '2018') & (meta_df['date'] < '2024')]"
      ],
      "metadata": {
        "id": "iKhB40eWtlkg"
      },
      "execution_count": null,
      "outputs": []
    },
    {
      "cell_type": "code",
      "source": [
        "!pip install transformers"
      ],
      "metadata": {
        "colab": {
          "base_uri": "https://localhost:8080/"
        },
        "id": "dvevUPiMs564",
        "outputId": "716a7425-e4c1-4731-eee8-8ce4629411ce"
      },
      "execution_count": null,
      "outputs": [
        {
          "output_type": "stream",
          "name": "stdout",
          "text": [
            "Looking in indexes: https://pypi.org/simple, https://us-python.pkg.dev/colab-wheels/public/simple/\n",
            "Requirement already satisfied: transformers in /usr/local/lib/python3.9/dist-packages (4.28.1)\n",
            "Requirement already satisfied: tokenizers!=0.11.3,<0.14,>=0.11.1 in /usr/local/lib/python3.9/dist-packages (from transformers) (0.13.3)\n",
            "Requirement already satisfied: packaging>=20.0 in /usr/local/lib/python3.9/dist-packages (from transformers) (23.1)\n",
            "Requirement already satisfied: huggingface-hub<1.0,>=0.11.0 in /usr/local/lib/python3.9/dist-packages (from transformers) (0.14.0)\n",
            "Requirement already satisfied: numpy>=1.17 in /usr/local/lib/python3.9/dist-packages (from transformers) (1.22.4)\n",
            "Requirement already satisfied: requests in /usr/local/lib/python3.9/dist-packages (from transformers) (2.27.1)\n",
            "Requirement already satisfied: pyyaml>=5.1 in /usr/local/lib/python3.9/dist-packages (from transformers) (6.0)\n",
            "Requirement already satisfied: regex!=2019.12.17 in /usr/local/lib/python3.9/dist-packages (from transformers) (2022.10.31)\n",
            "Requirement already satisfied: filelock in /usr/local/lib/python3.9/dist-packages (from transformers) (3.11.0)\n",
            "Requirement already satisfied: tqdm>=4.27 in /usr/local/lib/python3.9/dist-packages (from transformers) (4.65.0)\n",
            "Requirement already satisfied: typing-extensions>=3.7.4.3 in /usr/local/lib/python3.9/dist-packages (from huggingface-hub<1.0,>=0.11.0->transformers) (4.5.0)\n",
            "Requirement already satisfied: fsspec in /usr/local/lib/python3.9/dist-packages (from huggingface-hub<1.0,>=0.11.0->transformers) (2023.4.0)\n",
            "Requirement already satisfied: idna<4,>=2.5 in /usr/local/lib/python3.9/dist-packages (from requests->transformers) (3.4)\n",
            "Requirement already satisfied: charset-normalizer~=2.0.0 in /usr/local/lib/python3.9/dist-packages (from requests->transformers) (2.0.12)\n",
            "Requirement already satisfied: certifi>=2017.4.17 in /usr/local/lib/python3.9/dist-packages (from requests->transformers) (2022.12.7)\n",
            "Requirement already satisfied: urllib3<1.27,>=1.21.1 in /usr/local/lib/python3.9/dist-packages (from requests->transformers) (1.26.15)\n"
          ]
        }
      ]
    },
    {
      "cell_type": "code",
      "source": [
        "import pandas as pd\n",
        "import numpy as np\n",
        "import torch\n",
        "from transformers import AutoTokenizer, AutoModel\n",
        "\n",
        "# Load the metadata\n",
        "meta_df = meta_df[['paper_id','abstract','body_text','title','authors','journal','url']].reset_index(drop=True)\n",
        "\n",
        "# Load the SPECTER model and tokenizer\n",
        "model_name = \"allenai/specter\"\n",
        "tokenizer = AutoTokenizer.from_pretrained(model_name)\n",
        "model = AutoModel.from_pretrained(model_name)\n",
        "\n",
        "# Compute the embeddings in batches\n",
        "batch_size = 12\n",
        "num_batches = (len(meta_df) + batch_size - 1) // batch_size\n",
        "\n",
        "embeddings = []\n",
        "for i in range(num_batches):\n",
        "    start_idx = i * batch_size\n",
        "    end_idx = min((i + 1) * batch_size, len(meta_df))\n",
        "    batch = meta_df.iloc[start_idx:end_idx]\n",
        "    inputs = list(batch.apply(lambda row: f\"{row['title']} {row['abstract']}\", axis=1))\n",
        "\n",
        "    # Tokenize the inputs and pad the sequences\n",
        "    encoded_inputs = tokenizer(inputs, padding=True, truncation=True, max_length=512, return_tensors='pt')\n",
        "    padded_inputs = {k: v.to(model.device) for k, v in encoded_inputs.items()}\n",
        "\n",
        "    # Compute the embeddings for the batch\n",
        "    with torch.no_grad():\n",
        "        outputs = model(**padded_inputs)\n",
        "        batch_embeddings = outputs.last_hidden_state[:, 0, :].cpu().numpy()\n",
        "\n",
        "    embeddings.append(batch_embeddings)\n",
        "\n",
        "# Concatenate the embeddings for all batches\n",
        "embeddings = np.concatenate(embeddings, axis=0)"
      ],
      "metadata": {
        "id": "QoqNHkisswq1"
      },
      "execution_count": null,
      "outputs": []
    },
    {
      "cell_type": "code",
      "source": [
        "from sklearn.model_selection import train_test_split\n",
        "from sklearn.linear_model import LogisticRegression\n",
        "from sklearn.metrics import classification_report\n",
        "\n",
        "# Split the data into training and testing sets\n",
        "X_train, X_test, y_train, y_test = train_test_split(embeddings, meta_df['label'], test_size=0.2, random_state=42)\n",
        "\n",
        "# Train a logistic regression classifier\n",
        "clf = LogisticRegression(random_state=42, max_iter=1000)\n",
        "clf.fit(X_train, y_train)\n",
        "\n",
        "# Make predictions on the test set\n",
        "y_pred = clf.predict(X_test)\n",
        "\n",
        "# Evaluate the performance of the classifier\n",
        "print(classification_report(y_test, y_pred))"
      ],
      "metadata": {
        "colab": {
          "base_uri": "https://localhost:8080/"
        },
        "id": "CFo_sVa7tP2y",
        "outputId": "9b5850a2-7c4e-486a-c46c-0fc28e61a0d0"
      },
      "execution_count": null,
      "outputs": [
        {
          "output_type": "stream",
          "name": "stdout",
          "text": [
            "              precision    recall  f1-score   support\n",
            "\n",
            "  irrelevant       0.86      0.75      0.80        32\n",
            "    relevant       0.90      0.95      0.92        78\n",
            "\n",
            "    accuracy                           0.89       110\n",
            "   macro avg       0.88      0.85      0.86       110\n",
            "weighted avg       0.89      0.89      0.89       110\n",
            "\n"
          ]
        }
      ]
    }
  ]
}